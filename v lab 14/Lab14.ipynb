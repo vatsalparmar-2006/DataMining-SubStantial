{
 "cells": [
  {
   "cell_type": "markdown",
   "id": "02b33ee5",
   "metadata": {},
   "source": [
    "<a href='https://www.darshan.ac.in/'> <img src='https://www.darshan.ac.in/Content/media/DU_Logo.svg' width=\"250\" height=\"300\"/></a>\n",
    "<pre>\n",
    "<center><b><h1>Data Mining</b></center>\n",
    "<center><b><h1>Lab - 14</b></center>    \n",
    "<hr>   \n",
    "<center><b><h1>Vatsal Parmar | 23010101196</b></center>  \n",
    "<pre>"
   ]
  },
  {
   "cell_type": "markdown",
   "id": "0a09b1b5",
   "metadata": {},
   "source": [
    "# Implement K- Means without Library\n",
    "# Sample data points\n",
    "data = [\n",
    "    [1, 2], [2, 3], [3, 4],\n",
    "    [10, 11], [11, 12], [12, 13],\n",
    "    [50, 51], [51, 52], [52, 53]\n",
    "]"
   ]
  },
  {
   "cell_type": "markdown",
   "id": "a811596d",
   "metadata": {},
   "source": []
  },
  {
   "cell_type": "code",
   "execution_count": 1,
   "id": "cd62c9c1",
   "metadata": {},
   "outputs": [],
   "source": [
    "import math"
   ]
  },
  {
   "cell_type": "code",
   "execution_count": 9,
   "id": "b3894a1a",
   "metadata": {},
   "outputs": [],
   "source": [
    "data = [\n",
    "    [1, 2], [2, 3], [3, 4],\n",
    "    [10, 11], [11, 12], [12, 13],\n",
    "    [50, 51], [51, 52], [52, 53]\n",
    "]"
   ]
  },
  {
   "cell_type": "code",
   "execution_count": 2,
   "id": "0d94ecf4",
   "metadata": {},
   "outputs": [],
   "source": [
    "def distance(x1,x2):\n",
    "    return math.sqrt(((x1[0] - x2[0])**2) + ((x1[1] - x2[1])**2))"
   ]
  },
  {
   "cell_type": "code",
   "execution_count": 3,
   "id": "52622a40",
   "metadata": {},
   "outputs": [
    {
     "data": {
      "text/plain": [
       "0.0"
      ]
     },
     "execution_count": 3,
     "metadata": {},
     "output_type": "execute_result"
    }
   ],
   "source": [
    "distance([1,1],[1,1])"
   ]
  },
  {
   "cell_type": "code",
   "execution_count": 4,
   "id": "5a759a3a",
   "metadata": {},
   "outputs": [],
   "source": [
    "def update_cluster_center(cluster_data):\n",
    "    sum = [0,0]\n",
    "    for i in cluster_data:\n",
    "        sum[0] =  sum[0] + i[0]\n",
    "        sum[1] =  sum[1] + i[1]\n",
    "    return [sum[0]/len(cluster_data),sum[1]/len(cluster_data)]    "
   ]
  },
  {
   "cell_type": "code",
   "execution_count": 5,
   "id": "289c61db",
   "metadata": {},
   "outputs": [
    {
     "data": {
      "text/plain": [
       "[1.3333333333333333, 1.3333333333333333]"
      ]
     },
     "execution_count": 5,
     "metadata": {},
     "output_type": "execute_result"
    }
   ],
   "source": [
    "update_cluster_center([[1,1],[2,2],[1,1]])"
   ]
  },
  {
   "cell_type": "markdown",
   "id": "62e7df23",
   "metadata": {},
   "source": [
    "# Now Implement code"
   ]
  },
  {
   "cell_type": "code",
   "execution_count": null,
   "id": "a8a54b63",
   "metadata": {},
   "outputs": [],
   "source": [
    "import numpy as np\n",
    "\n",
    "def kmeans_du(k,data):\n",
    "    # select random center\n",
    "    center_data = [data[np.random.randint(0,len(data))] for i in range(0,k)]\n",
    "    print(center_data)\n",
    "    \n",
    "    #cluster data\n",
    "    cluster_data = [[] for i in range(0,k)]\n",
    "    for i in range(0,k):\n",
    "        cluster_data[i].append(center_data[i])\n",
    "    print(cluster_data)\n",
    "    \n",
    "    for j in range(0,5):\n",
    "        cluster_data = [[] for i in range(0,k)]\n",
    "        for d in data:\n",
    "            mindistance = []\n",
    "            for i in range(0,k):\n",
    "                mindistance.append(distance(center_data[i],d))\n",
    "            print(d ,\"-->\",mindistance)\n",
    "            cluster_data[mindistance.index(min(mindistance))].append(d)\n",
    "        \n",
    "        # print Cluster data\n",
    "        for i in range(0,k):\n",
    "            print(i,\"-->\",cluster_data[i])\n",
    "        \n",
    "        # update Cluster center\n",
    "        for i in range(0,k):\n",
    "            center_data[i] = update_cluster_center(cluster_data[i])\n",
    "        print(\"NEW Cluster Center\",center_data)    "
   ]
  },
  {
   "cell_type": "code",
   "execution_count": 10,
   "id": "666236d4",
   "metadata": {},
   "outputs": [
    {
     "name": "stdout",
     "output_type": "stream",
     "text": [
      "[[1, 2], [11, 12], [10, 11]]\n",
      "[[[1, 2]], [[11, 12]], [[10, 11]]]\n",
      "[1, 2] --> [0.0, 14.142135623730951, 12.727922061357855]\n",
      "[2, 3] --> [1.4142135623730951, 12.727922061357855, 11.313708498984761]\n",
      "[3, 4] --> [2.8284271247461903, 11.313708498984761, 9.899494936611665]\n",
      "[10, 11] --> [12.727922061357855, 1.4142135623730951, 0.0]\n",
      "[11, 12] --> [14.142135623730951, 0.0, 1.4142135623730951]\n",
      "[12, 13] --> [15.556349186104045, 1.4142135623730951, 2.8284271247461903]\n",
      "[50, 51] --> [69.29646455628166, 55.154328932550705, 56.568542494923804]\n",
      "[51, 52] --> [70.71067811865476, 56.568542494923804, 57.982756057296896]\n",
      "[52, 53] --> [72.12489168102785, 57.982756057296896, 59.39696961966999]\n",
      "0 --> [[1, 2], [2, 3], [3, 4]]\n",
      "1 --> [[11, 12], [12, 13], [50, 51], [51, 52], [52, 53]]\n",
      "2 --> [[10, 11]]\n",
      "NEW Cluster Center [[2.0, 3.0], [35.2, 36.2], [10.0, 11.0]]\n",
      "[1, 2] --> [1.4142135623730951, 48.366103833159855, 12.727922061357855]\n",
      "[2, 3] --> [0.0, 46.95189027078676, 11.313708498984761]\n",
      "[3, 4] --> [1.4142135623730951, 45.53767670841366, 9.899494936611665]\n",
      "[10, 11] --> [11.313708498984761, 35.638181771802, 0.0]\n",
      "[11, 12] --> [12.727922061357855, 34.223968209428904, 1.4142135623730951]\n",
      "[12, 13] --> [14.142135623730951, 32.80975464705581, 2.8284271247461903]\n",
      "[50, 51] --> [67.88225099390856, 20.9303607231218, 56.568542494923804]\n",
      "[51, 52] --> [69.29646455628166, 22.344574285494897, 57.982756057296896]\n",
      "[52, 53] --> [70.71067811865476, 23.758787847867993, 59.39696961966999]\n",
      "0 --> [[1, 2], [2, 3], [3, 4]]\n",
      "1 --> [[50, 51], [51, 52], [52, 53]]\n",
      "2 --> [[10, 11], [11, 12], [12, 13]]\n",
      "NEW Cluster Center [[2.0, 3.0], [51.0, 52.0], [11.0, 12.0]]\n",
      "[1, 2] --> [1.4142135623730951, 70.71067811865476, 14.142135623730951]\n",
      "[2, 3] --> [0.0, 69.29646455628166, 12.727922061357855]\n",
      "[3, 4] --> [1.4142135623730951, 67.88225099390856, 11.313708498984761]\n",
      "[10, 11] --> [11.313708498984761, 57.982756057296896, 1.4142135623730951]\n",
      "[11, 12] --> [12.727922061357855, 56.568542494923804, 0.0]\n",
      "[12, 13] --> [14.142135623730951, 55.154328932550705, 1.4142135623730951]\n",
      "[50, 51] --> [67.88225099390856, 1.4142135623730951, 55.154328932550705]\n",
      "[51, 52] --> [69.29646455628166, 0.0, 56.568542494923804]\n",
      "[52, 53] --> [70.71067811865476, 1.4142135623730951, 57.982756057296896]\n",
      "0 --> [[1, 2], [2, 3], [3, 4]]\n",
      "1 --> [[50, 51], [51, 52], [52, 53]]\n",
      "2 --> [[10, 11], [11, 12], [12, 13]]\n",
      "NEW Cluster Center [[2.0, 3.0], [51.0, 52.0], [11.0, 12.0]]\n",
      "[1, 2] --> [1.4142135623730951, 70.71067811865476, 14.142135623730951]\n",
      "[2, 3] --> [0.0, 69.29646455628166, 12.727922061357855]\n",
      "[3, 4] --> [1.4142135623730951, 67.88225099390856, 11.313708498984761]\n",
      "[10, 11] --> [11.313708498984761, 57.982756057296896, 1.4142135623730951]\n",
      "[11, 12] --> [12.727922061357855, 56.568542494923804, 0.0]\n",
      "[12, 13] --> [14.142135623730951, 55.154328932550705, 1.4142135623730951]\n",
      "[50, 51] --> [67.88225099390856, 1.4142135623730951, 55.154328932550705]\n",
      "[51, 52] --> [69.29646455628166, 0.0, 56.568542494923804]\n",
      "[52, 53] --> [70.71067811865476, 1.4142135623730951, 57.982756057296896]\n",
      "0 --> [[1, 2], [2, 3], [3, 4]]\n",
      "1 --> [[50, 51], [51, 52], [52, 53]]\n",
      "2 --> [[10, 11], [11, 12], [12, 13]]\n",
      "NEW Cluster Center [[2.0, 3.0], [51.0, 52.0], [11.0, 12.0]]\n",
      "[1, 2] --> [1.4142135623730951, 70.71067811865476, 14.142135623730951]\n",
      "[2, 3] --> [0.0, 69.29646455628166, 12.727922061357855]\n",
      "[3, 4] --> [1.4142135623730951, 67.88225099390856, 11.313708498984761]\n",
      "[10, 11] --> [11.313708498984761, 57.982756057296896, 1.4142135623730951]\n",
      "[11, 12] --> [12.727922061357855, 56.568542494923804, 0.0]\n",
      "[12, 13] --> [14.142135623730951, 55.154328932550705, 1.4142135623730951]\n",
      "[50, 51] --> [67.88225099390856, 1.4142135623730951, 55.154328932550705]\n",
      "[51, 52] --> [69.29646455628166, 0.0, 56.568542494923804]\n",
      "[52, 53] --> [70.71067811865476, 1.4142135623730951, 57.982756057296896]\n",
      "0 --> [[1, 2], [2, 3], [3, 4]]\n",
      "1 --> [[50, 51], [51, 52], [52, 53]]\n",
      "2 --> [[10, 11], [11, 12], [12, 13]]\n",
      "NEW Cluster Center [[2.0, 3.0], [51.0, 52.0], [11.0, 12.0]]\n"
     ]
    }
   ],
   "source": [
    "kmeans_du(3,data)"
   ]
  },
  {
   "cell_type": "markdown",
   "id": "ad578a15",
   "metadata": {},
   "source": [
    "# Implement K-Medoids without Library\n",
    "# Sample data points\n",
    "data = [\n",
    "    [1, 2], [2, 3], [3, 4],\n",
    "    [10, 11], [11, 12], [12, 13],\n",
    "    [50, 51], [51, 52], [52, 53]\n",
    "]"
   ]
  },
  {
   "cell_type": "code",
   "execution_count": 17,
   "id": "ab9f93f2",
   "metadata": {},
   "outputs": [],
   "source": [
    "import random\n",
    "import math"
   ]
  },
  {
   "cell_type": "code",
   "execution_count": 12,
   "id": "a82ddb75",
   "metadata": {},
   "outputs": [],
   "source": [
    "def euclidean_distance(p1, p2):\n",
    "    return math.sqrt(sum((x - y) ** 2 for x, y in zip(p1, p2)))"
   ]
  },
  {
   "cell_type": "code",
   "execution_count": 13,
   "id": "7cf0bd94",
   "metadata": {},
   "outputs": [],
   "source": [
    "def assign_points(data, medoids):\n",
    "    clusters = {i: [] for i in range(len(medoids))}\n",
    "    for point in data:\n",
    "        distances = [euclidean_distance(point, medoid) for medoid in medoids]\n",
    "        nearest = distances.index(min(distances))\n",
    "        clusters[nearest].append(point)\n",
    "    return clusters"
   ]
  },
  {
   "cell_type": "code",
   "execution_count": 14,
   "id": "d03def28",
   "metadata": {},
   "outputs": [],
   "source": [
    "def calculate_cost(clusters, medoids):\n",
    "    cost = 0\n",
    "    for i, points in clusters.items():\n",
    "        for p in points:\n",
    "            cost += euclidean_distance(p, medoids[i])\n",
    "    return cost"
   ]
  },
  {
   "cell_type": "code",
   "execution_count": 15,
   "id": "debcf645",
   "metadata": {},
   "outputs": [],
   "source": [
    "def k_medoids(data, k, max_iter=100):\n",
    "    # Step 1: Randomly select initial medoids\n",
    "    medoids = random.sample(data, k)\n",
    "\n",
    "    for _ in range(max_iter):\n",
    "        clusters = assign_points(data, medoids)\n",
    "        current_cost = calculate_cost(clusters, medoids)\n",
    "\n",
    "        best_medoids = medoids[:]\n",
    "        improved = False\n",
    "\n",
    "        # Step 2: Try swapping medoids with non-medoids\n",
    "        for i in range(len(medoids)):\n",
    "            for candidate in data:\n",
    "                if candidate not in medoids:\n",
    "                    new_medoids = medoids[:]\n",
    "                    new_medoids[i] = candidate\n",
    "                    new_clusters = assign_points(data, new_medoids)\n",
    "                    new_cost = calculate_cost(new_clusters, new_medoids)\n",
    "\n",
    "                    if new_cost < current_cost:\n",
    "                        best_medoids = new_medoids\n",
    "                        current_cost = new_cost\n",
    "                        improved = True\n",
    "\n",
    "        medoids = best_medoids\n",
    "        if not improved:\n",
    "            break  # convergence\n",
    "\n",
    "    final_clusters = assign_points(data, medoids)\n",
    "    return medoids, final_clusters"
   ]
  },
  {
   "cell_type": "code",
   "execution_count": 18,
   "id": "08e1a0d5",
   "metadata": {},
   "outputs": [],
   "source": [
    "k = 3\n",
    "medoids, clusters = k_medoids(data, k)"
   ]
  },
  {
   "cell_type": "code",
   "execution_count": 19,
   "id": "47e7d8ae",
   "metadata": {},
   "outputs": [
    {
     "name": "stdout",
     "output_type": "stream",
     "text": [
      "Final Medoids: [[51, 52], [11, 12], [2, 3]]\n",
      "Clusters:\n",
      "Cluster 1: [[50, 51], [51, 52], [52, 53]]\n",
      "Cluster 2: [[10, 11], [11, 12], [12, 13]]\n",
      "Cluster 3: [[1, 2], [2, 3], [3, 4]]\n"
     ]
    }
   ],
   "source": [
    "print(\"Final Medoids:\", medoids)\n",
    "print(\"Clusters:\")\n",
    "for i, points in clusters.items():\n",
    "    print(f\"Cluster {i+1}: {points}\")"
   ]
  }
 ],
 "metadata": {
  "kernelspec": {
   "display_name": "Python 3 (ipykernel)",
   "language": "python",
   "name": "python3"
  },
  "language_info": {
   "codemirror_mode": {
    "name": "ipython",
    "version": 3
   },
   "file_extension": ".py",
   "mimetype": "text/x-python",
   "name": "python",
   "nbconvert_exporter": "python",
   "pygments_lexer": "ipython3",
   "version": "3.12.7"
  }
 },
 "nbformat": 4,
 "nbformat_minor": 5
}
