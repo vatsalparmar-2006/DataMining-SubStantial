{
 "cells": [
  {
   "cell_type": "markdown",
   "id": "ea4af35f",
   "metadata": {},
   "source": [
    "#  Titanic Dataset (PCA) - TASK 3\n",
    "\n"
   ]
  },
  {
   "cell_type": "markdown",
   "id": "6135d78b",
   "metadata": {},
   "source": [
    "# Step 1: Load Data"
   ]
  },
  {
   "cell_type": "code",
   "execution_count": 1,
   "id": "683445f6",
   "metadata": {},
   "outputs": [],
   "source": [
    "import pandas as pd\n",
    "import numpy as np\n",
    "import matplotlib.pyplot as plt "
   ]
  },
  {
   "cell_type": "code",
   "execution_count": 9,
   "id": "b3f5ad20",
   "metadata": {},
   "outputs": [
    {
     "data": {
      "text/html": [
       "<div>\n",
       "<style scoped>\n",
       "    .dataframe tbody tr th:only-of-type {\n",
       "        vertical-align: middle;\n",
       "    }\n",
       "\n",
       "    .dataframe tbody tr th {\n",
       "        vertical-align: top;\n",
       "    }\n",
       "\n",
       "    .dataframe thead th {\n",
       "        text-align: right;\n",
       "    }\n",
       "</style>\n",
       "<table border=\"1\" class=\"dataframe\">\n",
       "  <thead>\n",
       "    <tr style=\"text-align: right;\">\n",
       "      <th></th>\n",
       "      <th>PassengerId</th>\n",
       "      <th>Survived</th>\n",
       "      <th>Pclass</th>\n",
       "      <th>Name</th>\n",
       "      <th>Sex</th>\n",
       "      <th>Age</th>\n",
       "      <th>SibSp</th>\n",
       "      <th>Parch</th>\n",
       "      <th>Ticket</th>\n",
       "      <th>Fare</th>\n",
       "      <th>Cabin</th>\n",
       "      <th>Embarked</th>\n",
       "    </tr>\n",
       "  </thead>\n",
       "  <tbody>\n",
       "    <tr>\n",
       "      <th>0</th>\n",
       "      <td>1</td>\n",
       "      <td>0</td>\n",
       "      <td>3</td>\n",
       "      <td>Braund, Mr. Owen Harris</td>\n",
       "      <td>male</td>\n",
       "      <td>22.0</td>\n",
       "      <td>1</td>\n",
       "      <td>0</td>\n",
       "      <td>A/5 21171</td>\n",
       "      <td>7.2500</td>\n",
       "      <td>NaN</td>\n",
       "      <td>S</td>\n",
       "    </tr>\n",
       "    <tr>\n",
       "      <th>1</th>\n",
       "      <td>2</td>\n",
       "      <td>1</td>\n",
       "      <td>1</td>\n",
       "      <td>Cumings, Mrs. John Bradley (Florence Briggs Th...</td>\n",
       "      <td>female</td>\n",
       "      <td>38.0</td>\n",
       "      <td>1</td>\n",
       "      <td>0</td>\n",
       "      <td>PC 17599</td>\n",
       "      <td>71.2833</td>\n",
       "      <td>C85</td>\n",
       "      <td>C</td>\n",
       "    </tr>\n",
       "    <tr>\n",
       "      <th>2</th>\n",
       "      <td>3</td>\n",
       "      <td>1</td>\n",
       "      <td>3</td>\n",
       "      <td>Heikkinen, Miss. Laina</td>\n",
       "      <td>female</td>\n",
       "      <td>26.0</td>\n",
       "      <td>0</td>\n",
       "      <td>0</td>\n",
       "      <td>STON/O2. 3101282</td>\n",
       "      <td>7.9250</td>\n",
       "      <td>NaN</td>\n",
       "      <td>S</td>\n",
       "    </tr>\n",
       "    <tr>\n",
       "      <th>3</th>\n",
       "      <td>4</td>\n",
       "      <td>1</td>\n",
       "      <td>1</td>\n",
       "      <td>Futrelle, Mrs. Jacques Heath (Lily May Peel)</td>\n",
       "      <td>female</td>\n",
       "      <td>35.0</td>\n",
       "      <td>1</td>\n",
       "      <td>0</td>\n",
       "      <td>113803</td>\n",
       "      <td>53.1000</td>\n",
       "      <td>C123</td>\n",
       "      <td>S</td>\n",
       "    </tr>\n",
       "    <tr>\n",
       "      <th>4</th>\n",
       "      <td>5</td>\n",
       "      <td>0</td>\n",
       "      <td>3</td>\n",
       "      <td>Allen, Mr. William Henry</td>\n",
       "      <td>male</td>\n",
       "      <td>35.0</td>\n",
       "      <td>0</td>\n",
       "      <td>0</td>\n",
       "      <td>373450</td>\n",
       "      <td>8.0500</td>\n",
       "      <td>NaN</td>\n",
       "      <td>S</td>\n",
       "    </tr>\n",
       "    <tr>\n",
       "      <th>...</th>\n",
       "      <td>...</td>\n",
       "      <td>...</td>\n",
       "      <td>...</td>\n",
       "      <td>...</td>\n",
       "      <td>...</td>\n",
       "      <td>...</td>\n",
       "      <td>...</td>\n",
       "      <td>...</td>\n",
       "      <td>...</td>\n",
       "      <td>...</td>\n",
       "      <td>...</td>\n",
       "      <td>...</td>\n",
       "    </tr>\n",
       "    <tr>\n",
       "      <th>886</th>\n",
       "      <td>887</td>\n",
       "      <td>0</td>\n",
       "      <td>2</td>\n",
       "      <td>Montvila, Rev. Juozas</td>\n",
       "      <td>male</td>\n",
       "      <td>27.0</td>\n",
       "      <td>0</td>\n",
       "      <td>0</td>\n",
       "      <td>211536</td>\n",
       "      <td>13.0000</td>\n",
       "      <td>NaN</td>\n",
       "      <td>S</td>\n",
       "    </tr>\n",
       "    <tr>\n",
       "      <th>887</th>\n",
       "      <td>888</td>\n",
       "      <td>1</td>\n",
       "      <td>1</td>\n",
       "      <td>Graham, Miss. Margaret Edith</td>\n",
       "      <td>female</td>\n",
       "      <td>19.0</td>\n",
       "      <td>0</td>\n",
       "      <td>0</td>\n",
       "      <td>112053</td>\n",
       "      <td>30.0000</td>\n",
       "      <td>B42</td>\n",
       "      <td>S</td>\n",
       "    </tr>\n",
       "    <tr>\n",
       "      <th>888</th>\n",
       "      <td>889</td>\n",
       "      <td>0</td>\n",
       "      <td>3</td>\n",
       "      <td>Johnston, Miss. Catherine Helen \"Carrie\"</td>\n",
       "      <td>female</td>\n",
       "      <td>NaN</td>\n",
       "      <td>1</td>\n",
       "      <td>2</td>\n",
       "      <td>W./C. 6607</td>\n",
       "      <td>23.4500</td>\n",
       "      <td>NaN</td>\n",
       "      <td>S</td>\n",
       "    </tr>\n",
       "    <tr>\n",
       "      <th>889</th>\n",
       "      <td>890</td>\n",
       "      <td>1</td>\n",
       "      <td>1</td>\n",
       "      <td>Behr, Mr. Karl Howell</td>\n",
       "      <td>male</td>\n",
       "      <td>26.0</td>\n",
       "      <td>0</td>\n",
       "      <td>0</td>\n",
       "      <td>111369</td>\n",
       "      <td>30.0000</td>\n",
       "      <td>C148</td>\n",
       "      <td>C</td>\n",
       "    </tr>\n",
       "    <tr>\n",
       "      <th>890</th>\n",
       "      <td>891</td>\n",
       "      <td>0</td>\n",
       "      <td>3</td>\n",
       "      <td>Dooley, Mr. Patrick</td>\n",
       "      <td>male</td>\n",
       "      <td>32.0</td>\n",
       "      <td>0</td>\n",
       "      <td>0</td>\n",
       "      <td>370376</td>\n",
       "      <td>7.7500</td>\n",
       "      <td>NaN</td>\n",
       "      <td>Q</td>\n",
       "    </tr>\n",
       "  </tbody>\n",
       "</table>\n",
       "<p>891 rows × 12 columns</p>\n",
       "</div>"
      ],
      "text/plain": [
       "     PassengerId  Survived  Pclass  \\\n",
       "0              1         0       3   \n",
       "1              2         1       1   \n",
       "2              3         1       3   \n",
       "3              4         1       1   \n",
       "4              5         0       3   \n",
       "..           ...       ...     ...   \n",
       "886          887         0       2   \n",
       "887          888         1       1   \n",
       "888          889         0       3   \n",
       "889          890         1       1   \n",
       "890          891         0       3   \n",
       "\n",
       "                                                  Name     Sex   Age  SibSp  \\\n",
       "0                              Braund, Mr. Owen Harris    male  22.0      1   \n",
       "1    Cumings, Mrs. John Bradley (Florence Briggs Th...  female  38.0      1   \n",
       "2                               Heikkinen, Miss. Laina  female  26.0      0   \n",
       "3         Futrelle, Mrs. Jacques Heath (Lily May Peel)  female  35.0      1   \n",
       "4                             Allen, Mr. William Henry    male  35.0      0   \n",
       "..                                                 ...     ...   ...    ...   \n",
       "886                              Montvila, Rev. Juozas    male  27.0      0   \n",
       "887                       Graham, Miss. Margaret Edith  female  19.0      0   \n",
       "888           Johnston, Miss. Catherine Helen \"Carrie\"  female   NaN      1   \n",
       "889                              Behr, Mr. Karl Howell    male  26.0      0   \n",
       "890                                Dooley, Mr. Patrick    male  32.0      0   \n",
       "\n",
       "     Parch            Ticket     Fare Cabin Embarked  \n",
       "0        0         A/5 21171   7.2500   NaN        S  \n",
       "1        0          PC 17599  71.2833   C85        C  \n",
       "2        0  STON/O2. 3101282   7.9250   NaN        S  \n",
       "3        0            113803  53.1000  C123        S  \n",
       "4        0            373450   8.0500   NaN        S  \n",
       "..     ...               ...      ...   ...      ...  \n",
       "886      0            211536  13.0000   NaN        S  \n",
       "887      0            112053  30.0000   B42        S  \n",
       "888      2        W./C. 6607  23.4500   NaN        S  \n",
       "889      0            111369  30.0000  C148        C  \n",
       "890      0            370376   7.7500   NaN        Q  \n",
       "\n",
       "[891 rows x 12 columns]"
      ]
     },
     "execution_count": 9,
     "metadata": {},
     "output_type": "execute_result"
    }
   ],
   "source": [
    "titanic = pd.read_csv(\"titanic.csv\")\n",
    "titanic"
   ]
  },
  {
   "cell_type": "markdown",
   "id": "12f2b89b",
   "metadata": {},
   "source": [
    "# Step 2: Keep numeric data only"
   ]
  },
  {
   "cell_type": "code",
   "execution_count": null,
   "id": "e0238ffa",
   "metadata": {},
   "outputs": [
    {
     "data": {
      "text/plain": [
       "(891, 7)"
      ]
     },
     "execution_count": 12,
     "metadata": {},
     "output_type": "execute_result"
    }
   ],
   "source": [
    "x = titanic.select_dtypes(include=[np.number])\n",
    "x.fillna(x.mean(), inplace=True)\n",
    "x.shape\n",
    "\n",
    "labels = titanic.loc[x.index, 'Survived']"
   ]
  },
  {
   "cell_type": "markdown",
   "id": "73b3ba19",
   "metadata": {},
   "source": [
    "# Step 3: Standardize the data (zero mean)"
   ]
  },
  {
   "cell_type": "code",
   "execution_count": 18,
   "id": "fbfc9836",
   "metadata": {},
   "outputs": [
    {
     "name": "stdout",
     "output_type": "stream",
     "text": [
      "Data after centering (First 5 rows) : \n",
      "\n",
      "    PassengerId  Survived    Pclass       Age     SibSp     Parch       Fare\n",
      "0       -445.0 -0.383838  0.691358 -7.699118  0.476992 -0.381594 -24.954208\n",
      "1       -444.0  0.616162 -1.308642  8.300882  0.476992 -0.381594  39.079092\n",
      "2       -443.0  0.616162  0.691358 -3.699118 -0.523008 -0.381594 -24.279208\n",
      "3       -442.0  0.616162 -1.308642  5.300882  0.476992 -0.381594  20.895792\n",
      "4       -441.0 -0.383838  0.691358  5.300882 -0.523008 -0.381594 -24.154208\n",
      "(891, 7)\n"
     ]
    }
   ],
   "source": [
    "x_meaned = x - np.mean(x, axis=0)\n",
    "print(\"Data after centering (First 5 rows) : \\n\\n\", x_meaned[:5])\n",
    "print(x_meaned.shape)"
   ]
  },
  {
   "cell_type": "markdown",
   "id": "325c9d94",
   "metadata": {},
   "source": [
    "# Step 4: Compute the Covariance Matrix"
   ]
  },
  {
   "cell_type": "code",
   "execution_count": 19,
   "id": "3a507e51",
   "metadata": {},
   "outputs": [
    {
     "data": {
      "text/plain": [
       "array([[ 6.62310000e+04, -6.26966292e-01, -7.56179775e+00,\n",
       "         1.11113042e+02, -1.63258427e+01, -3.42696629e-01,\n",
       "         1.61883369e+02],\n",
       "       [-6.26966292e-01,  2.36772217e-01, -1.37702871e-01,\n",
       "        -4.41656312e-01, -1.89535808e-02,  3.20167972e-02,\n",
       "         6.22178683e+00],\n",
       "       [-7.56179775e+00, -1.37702871e-01,  6.99015120e-01,\n",
       "        -3.60185492e+00,  7.65986961e-02,  1.24289083e-02,\n",
       "        -2.28301962e+01],\n",
       "       [ 1.11113042e+02, -4.41656312e-01, -3.60185492e+00,\n",
       "         1.69052400e+02, -3.33534501e+00, -1.87798678e+00,\n",
       "         5.91622003e+01],\n",
       "       [-1.63258427e+01, -1.89535808e-02,  7.65986961e-02,\n",
       "        -3.33534501e+00,  1.21604308e+00,  3.68738572e-01,\n",
       "         8.74873381e+00],\n",
       "       [-3.42696629e-01,  3.20167972e-02,  1.24289083e-02,\n",
       "        -1.87798678e+00,  3.68738572e-01,  6.49728244e-01,\n",
       "         8.66105167e+00],\n",
       "       [ 1.61883369e+02,  6.22178683e+00, -2.28301962e+01,\n",
       "         5.91622003e+01,  8.74873381e+00,  8.66105167e+00,\n",
       "         2.46943685e+03]])"
      ]
     },
     "execution_count": 19,
     "metadata": {},
     "output_type": "execute_result"
    }
   ],
   "source": [
    "cov_mat = np.cov(x_meaned, rowvar=False)\n",
    "cov_mat"
   ]
  },
  {
   "cell_type": "markdown",
   "id": "4ba4bab1",
   "metadata": {},
   "source": [
    "# Step 5: Compute eigenvalues and eigenvectors"
   ]
  },
  {
   "cell_type": "code",
   "execution_count": 21,
   "id": "0a96250d",
   "metadata": {},
   "outputs": [
    {
     "name": "stdout",
     "output_type": "stream",
     "text": [
      "Eigenvalues: [1.82675370e-01 4.48048946e-01 4.62841297e-01 1.25669033e+00\n",
      " 1.67516666e+02 2.47082059e+03 6.62316033e+04]\n",
      "Eigenvectors: [[ 4.16000703e-05 -4.03412412e-05]\n",
      " [ 9.34383027e-01  3.49795187e-01]\n",
      " [ 3.42344991e-01 -9.11590480e-01]\n",
      " [ 9.45134541e-03 -1.14756722e-02]\n",
      " [ 4.75276576e-02  6.37494136e-02]\n",
      " [-8.59042948e-02  2.05793162e-01]\n",
      " [ 7.14624390e-04 -9.98092655e-03]]\n"
     ]
    }
   ],
   "source": [
    "eigen_values, eigen_vectors = np.linalg.eigh(cov_mat)\n",
    "\n",
    "print('Eigenvalues:', eigen_values)\n",
    "print('Eigenvectors:', eigen_vectors[:, :2])"
   ]
  },
  {
   "cell_type": "markdown",
   "id": "2e771f5d",
   "metadata": {},
   "source": [
    "# Step 6: Sort eigenvalues and eigenvectors"
   ]
  },
  {
   "cell_type": "code",
   "execution_count": 22,
   "id": "bf09b9db",
   "metadata": {},
   "outputs": [
    {
     "name": "stdout",
     "output_type": "stream",
     "text": [
      "Sort Indedx :  [6 5 4 3 2 1 0]\n",
      "Sort EigenValue :  [6.62316033e+04 2.47082059e+03 1.67516666e+02 1.25669033e+00\n",
      " 4.62841297e-01 4.48048946e-01 1.82675370e-01]\n",
      "Sort EigenVector :  [[-9.99995318e-01  2.58267543e-03 -1.62522860e-03 -2.03936302e-04\n",
      "   8.83923256e-05 -4.03412412e-05  4.16000703e-05]\n",
      " [ 9.23853643e-06 -2.51398590e-03 -3.56961590e-03  5.72131250e-02\n",
      "  -3.57670587e-02  3.49795187e-01  9.34383027e-01]\n",
      " [ 1.15140276e-04  9.26834436e-03 -1.80038149e-02 -1.33112137e-01\n",
      "  -1.83504253e-01 -9.11590480e-01  3.42344991e-01]\n",
      " [-1.68422300e-03 -2.55743387e-02  9.99196359e-01 -2.64254107e-02\n",
      "  -5.51646528e-03 -1.14756722e-02  9.45134541e-03]\n",
      " [ 2.46249032e-04 -3.52393467e-03 -2.12634458e-02 -9.00456840e-01\n",
      "   4.27071422e-01  6.37494136e-02  4.75276576e-02]\n",
      " [ 4.89118430e-06 -3.48631976e-03 -1.26201274e-02 -4.09233123e-01\n",
      "  -8.84661775e-01  2.05793162e-01 -8.59042948e-02]\n",
      " [-2.54041913e-03 -9.99611168e-01 -2.56069031e-02  3.89910828e-03\n",
      "   1.09730221e-04 -9.98092655e-03  7.14624390e-04]]\n"
     ]
    }
   ],
   "source": [
    "sorted_index = np.argsort(eigen_values)[::-1]\n",
    "sorted_eigen_values = eigen_values[sorted_index]\n",
    "sorted_eigen_vectors = eigen_vectors[:, sorted_index]\n",
    "\n",
    "print(\"Sort Indedx : \",sorted_index)\n",
    "print(\"Sort EigenValue : \",sorted_eigen_values)\n",
    "print(\"Sort EigenVector : \",sorted_eigen_vectors)"
   ]
  },
  {
   "cell_type": "markdown",
   "id": "4639fb4e",
   "metadata": {},
   "source": [
    "# Step 7: Select the top k eigenvectors (top 2)"
   ]
  },
  {
   "cell_type": "code",
   "execution_count": 23,
   "id": "0c11c30c",
   "metadata": {},
   "outputs": [
    {
     "name": "stdout",
     "output_type": "stream",
     "text": [
      "(7, 2)\n"
     ]
    }
   ],
   "source": [
    "k = 2\n",
    "eigen_vector_subset = sorted_eigen_vectors[:, 0:k]\n",
    "print(eigen_vector_subset.shape)"
   ]
  },
  {
   "cell_type": "markdown",
   "id": "80a78da7",
   "metadata": {},
   "source": [
    "# Step 8: Project the data onto the top k eigenvectors"
   ]
  },
  {
   "cell_type": "code",
   "execution_count": 24,
   "id": "fbd53ab1",
   "metadata": {},
   "outputs": [
    {
     "name": "stdout",
     "output_type": "stream",
     "text": [
      "Reduced Data Shape :  (891, 2)\n"
     ]
    }
   ],
   "source": [
    "x_reduced = np.dot(x_meaned, eigen_vector_subset)\n",
    "print(\"Reduced Data Shape : \",x_reduced.shape)"
   ]
  },
  {
   "cell_type": "markdown",
   "id": "5a4431bc",
   "metadata": {},
   "source": [
    "# Step 9 : Plot the PCA-Reduced Data"
   ]
  },
  {
   "cell_type": "code",
   "execution_count": 26,
   "id": "a9e6cb3d",
   "metadata": {},
   "outputs": [
    {
     "data": {
      "image/png": "[encoded data removed]",
      "text/plain": [
       "<Figure size 800x600 with 1 Axes>"
      ]
     },
     "metadata": {},
     "output_type": "display_data"
    }
   ],
   "source": [
    "plt.figure(figsize=(8,6))\n",
    "plt.scatter(x_reduced[:, 0], x_reduced[:, 1], c='blue' )\n",
    "plt.xlabel('Principal Component 1')\n",
    "plt.ylabel('Principal Component 2')\n",
    "plt.title('PCA - Titanic Dataset')\n",
    "plt.grid(True)\n",
    "plt.show()"
   ]
  }
 ],
 "metadata": {
  "kernelspec": {
   "display_name": "Python 3",
   "language": "python",
   "name": "python3"
  },
  "language_info": {
   "codemirror_mode": {
    "name": "ipython",
    "version": 3
   },
   "file_extension": ".py",
   "mimetype": "text/x-python",
   "name": "python",
   "nbconvert_exporter": "python",
   "pygments_lexer": "ipython3",
   "version": "3.13.0"
  }
 },
 "nbformat": 4,
 "nbformat_minor": 5
}
