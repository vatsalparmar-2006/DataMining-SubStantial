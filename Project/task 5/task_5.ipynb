{
 "cells": [
  {
   "cell_type": "markdown",
   "id": "02b33ee5",
   "metadata": {},
   "source": [
    "<a href='https://www.darshan.ac.in/'> <img src='https://www.darshan.ac.in/Content/media/DU_Logo.svg' width=\"250\" height=\"300\"/></a>\n",
    "<pre>\n",
    "<center><b><h1>Data Mining</b></center> \n",
    "<pre>"
   ]
  },
  {
   "cell_type": "markdown",
   "id": "0a09b1b5",
   "metadata": {},
   "source": [
    "\n",
    "\n",
    "# Implement Decision Tree(ID3) in python\n",
    "Uses Information Gain to choose the best feature to split. \n",
    "\n",
    "Recursively builds the tree until stopping conditions are met."
   ]
  },
  {
   "cell_type": "markdown",
   "id": "a811596d",
   "metadata": {},
   "source": [
    "1) Calculate Entropy for the dataset.<BR>\n",
    "2) Calculate Information Gain for each feature. <BR>\n",
    "3) Choose the feature with maximum Information Gain. <BR>\n",
    "4) Split dataset into subsets for that feature. <BR>\n",
    "5) Repeat recursively until: <BR>\n",
    "\n",
    "All samples in a node have the same label.<BR>\n",
    "No features are left.<BR>\n",
    "No data is left."
   ]
  },
  {
   "cell_type": "markdown",
   "id": "a2a39aab",
   "metadata": {},
   "source": [
    "### Step 2. Import the dataset from this [address](https://raw.githubusercontent.com/justmarkham/DAT8/master/data/chipotle.tsv). "
   ]
  },
  {
   "cell_type": "markdown",
   "id": "6116e372",
   "metadata": {},
   "source": [
    "##  import Pandas, Numpy"
   ]
  },
  {
   "cell_type": "code",
   "execution_count": 1,
   "id": "e30bca04",
   "metadata": {},
   "outputs": [],
   "source": [
    "import pandas as pd\n",
    "import numpy as np"
   ]
  },
  {
   "cell_type": "markdown",
   "id": "c6040543",
   "metadata": {},
   "source": [
    "##  Create Following Data"
   ]
  },
  {
   "cell_type": "code",
   "execution_count": null,
   "id": "060c6cb6",
   "metadata": {},
   "outputs": [],
   "source": [
    "data = pd.read_csv(\"Heart Disease.csv\", encoding='latin1', on_bad_lines='skip')     "
   ]
  },
  {
   "cell_type": "code",
   "execution_count": 3,
   "id": "b0fc0487",
   "metadata": {},
   "outputs": [
    {
     "data": {
      "text/html": [
       "<div>\n",
       "<style scoped>\n",
       "    .dataframe tbody tr th:only-of-type {\n",
       "        vertical-align: middle;\n",
       "    }\n",
       "\n",
       "    .dataframe tbody tr th {\n",
       "        vertical-align: top;\n",
       "    }\n",
       "\n",
       "    .dataframe thead th {\n",
       "        text-align: right;\n",
       "    }\n",
       "</style>\n",
       "<table border=\"1\" class=\"dataframe\">\n",
       "  <thead>\n",
       "    <tr style=\"text-align: right;\">\n",
       "      <th></th>\n",
       "      <th>age</th>\n",
       "      <th>sex</th>\n",
       "      <th>cp</th>\n",
       "      <th>trestbps</th>\n",
       "      <th>chol</th>\n",
       "      <th>fbs</th>\n",
       "      <th>restecg</th>\n",
       "      <th>thalach</th>\n",
       "      <th>exang</th>\n",
       "      <th>oldpeak</th>\n",
       "      <th>slope</th>\n",
       "      <th>ca</th>\n",
       "      <th>thal</th>\n",
       "      <th>target</th>\n",
       "    </tr>\n",
       "  </thead>\n",
       "  <tbody>\n",
       "    <tr>\n",
       "      <th>0</th>\n",
       "      <td>52</td>\n",
       "      <td>1</td>\n",
       "      <td>0</td>\n",
       "      <td>125</td>\n",
       "      <td>212</td>\n",
       "      <td>0</td>\n",
       "      <td>1</td>\n",
       "      <td>168</td>\n",
       "      <td>0</td>\n",
       "      <td>1.0</td>\n",
       "      <td>2</td>\n",
       "      <td>2</td>\n",
       "      <td>3</td>\n",
       "      <td>0</td>\n",
       "    </tr>\n",
       "    <tr>\n",
       "      <th>1</th>\n",
       "      <td>53</td>\n",
       "      <td>1</td>\n",
       "      <td>0</td>\n",
       "      <td>140</td>\n",
       "      <td>203</td>\n",
       "      <td>1</td>\n",
       "      <td>0</td>\n",
       "      <td>155</td>\n",
       "      <td>1</td>\n",
       "      <td>3.1</td>\n",
       "      <td>0</td>\n",
       "      <td>0</td>\n",
       "      <td>3</td>\n",
       "      <td>0</td>\n",
       "    </tr>\n",
       "    <tr>\n",
       "      <th>2</th>\n",
       "      <td>70</td>\n",
       "      <td>1</td>\n",
       "      <td>0</td>\n",
       "      <td>145</td>\n",
       "      <td>174</td>\n",
       "      <td>0</td>\n",
       "      <td>1</td>\n",
       "      <td>125</td>\n",
       "      <td>1</td>\n",
       "      <td>2.6</td>\n",
       "      <td>0</td>\n",
       "      <td>0</td>\n",
       "      <td>3</td>\n",
       "      <td>0</td>\n",
       "    </tr>\n",
       "    <tr>\n",
       "      <th>3</th>\n",
       "      <td>61</td>\n",
       "      <td>1</td>\n",
       "      <td>0</td>\n",
       "      <td>148</td>\n",
       "      <td>203</td>\n",
       "      <td>0</td>\n",
       "      <td>1</td>\n",
       "      <td>161</td>\n",
       "      <td>0</td>\n",
       "      <td>0.0</td>\n",
       "      <td>2</td>\n",
       "      <td>1</td>\n",
       "      <td>3</td>\n",
       "      <td>0</td>\n",
       "    </tr>\n",
       "    <tr>\n",
       "      <th>4</th>\n",
       "      <td>62</td>\n",
       "      <td>0</td>\n",
       "      <td>0</td>\n",
       "      <td>138</td>\n",
       "      <td>294</td>\n",
       "      <td>1</td>\n",
       "      <td>1</td>\n",
       "      <td>106</td>\n",
       "      <td>0</td>\n",
       "      <td>1.9</td>\n",
       "      <td>1</td>\n",
       "      <td>3</td>\n",
       "      <td>2</td>\n",
       "      <td>0</td>\n",
       "    </tr>\n",
       "    <tr>\n",
       "      <th>...</th>\n",
       "      <td>...</td>\n",
       "      <td>...</td>\n",
       "      <td>...</td>\n",
       "      <td>...</td>\n",
       "      <td>...</td>\n",
       "      <td>...</td>\n",
       "      <td>...</td>\n",
       "      <td>...</td>\n",
       "      <td>...</td>\n",
       "      <td>...</td>\n",
       "      <td>...</td>\n",
       "      <td>...</td>\n",
       "      <td>...</td>\n",
       "      <td>...</td>\n",
       "    </tr>\n",
       "    <tr>\n",
       "      <th>3070</th>\n",
       "      <td>59</td>\n",
       "      <td>1</td>\n",
       "      <td>1</td>\n",
       "      <td>140</td>\n",
       "      <td>221</td>\n",
       "      <td>0</td>\n",
       "      <td>1</td>\n",
       "      <td>164</td>\n",
       "      <td>1</td>\n",
       "      <td>0.0</td>\n",
       "      <td>2</td>\n",
       "      <td>0</td>\n",
       "      <td>2</td>\n",
       "      <td>1</td>\n",
       "    </tr>\n",
       "    <tr>\n",
       "      <th>3071</th>\n",
       "      <td>60</td>\n",
       "      <td>1</td>\n",
       "      <td>0</td>\n",
       "      <td>125</td>\n",
       "      <td>258</td>\n",
       "      <td>0</td>\n",
       "      <td>0</td>\n",
       "      <td>141</td>\n",
       "      <td>1</td>\n",
       "      <td>2.8</td>\n",
       "      <td>1</td>\n",
       "      <td>1</td>\n",
       "      <td>3</td>\n",
       "      <td>0</td>\n",
       "    </tr>\n",
       "    <tr>\n",
       "      <th>3072</th>\n",
       "      <td>47</td>\n",
       "      <td>1</td>\n",
       "      <td>0</td>\n",
       "      <td>110</td>\n",
       "      <td>275</td>\n",
       "      <td>0</td>\n",
       "      <td>0</td>\n",
       "      <td>118</td>\n",
       "      <td>1</td>\n",
       "      <td>1.0</td>\n",
       "      <td>1</td>\n",
       "      <td>1</td>\n",
       "      <td>2</td>\n",
       "      <td>0</td>\n",
       "    </tr>\n",
       "    <tr>\n",
       "      <th>3073</th>\n",
       "      <td>50</td>\n",
       "      <td>0</td>\n",
       "      <td>0</td>\n",
       "      <td>110</td>\n",
       "      <td>254</td>\n",
       "      <td>0</td>\n",
       "      <td>0</td>\n",
       "      <td>159</td>\n",
       "      <td>0</td>\n",
       "      <td>0.0</td>\n",
       "      <td>2</td>\n",
       "      <td>0</td>\n",
       "      <td>2</td>\n",
       "      <td>1</td>\n",
       "    </tr>\n",
       "    <tr>\n",
       "      <th>3074</th>\n",
       "      <td>54</td>\n",
       "      <td>1</td>\n",
       "      <td>0</td>\n",
       "      <td>120</td>\n",
       "      <td>188</td>\n",
       "      <td>0</td>\n",
       "      <td>1</td>\n",
       "      <td>113</td>\n",
       "      <td>0</td>\n",
       "      <td>1.4</td>\n",
       "      <td>1</td>\n",
       "      <td>1</td>\n",
       "      <td>3</td>\n",
       "      <td>0</td>\n",
       "    </tr>\n",
       "  </tbody>\n",
       "</table>\n",
       "<p>3075 rows × 14 columns</p>\n",
       "</div>"
      ],
      "text/plain": [
       "      age  sex  cp  trestbps  chol  fbs  restecg  thalach  exang  oldpeak  \\\n",
       "0      52    1   0       125   212    0        1      168      0      1.0   \n",
       "1      53    1   0       140   203    1        0      155      1      3.1   \n",
       "2      70    1   0       145   174    0        1      125      1      2.6   \n",
       "3      61    1   0       148   203    0        1      161      0      0.0   \n",
       "4      62    0   0       138   294    1        1      106      0      1.9   \n",
       "...   ...  ...  ..       ...   ...  ...      ...      ...    ...      ...   \n",
       "3070   59    1   1       140   221    0        1      164      1      0.0   \n",
       "3071   60    1   0       125   258    0        0      141      1      2.8   \n",
       "3072   47    1   0       110   275    0        0      118      1      1.0   \n",
       "3073   50    0   0       110   254    0        0      159      0      0.0   \n",
       "3074   54    1   0       120   188    0        1      113      0      1.4   \n",
       "\n",
       "      slope  ca  thal  target  \n",
       "0         2   2     3       0  \n",
       "1         0   0     3       0  \n",
       "2         0   0     3       0  \n",
       "3         2   1     3       0  \n",
       "4         1   3     2       0  \n",
       "...     ...  ..   ...     ...  \n",
       "3070      2   0     2       1  \n",
       "3071      1   1     3       0  \n",
       "3072      1   1     2       0  \n",
       "3073      2   0     2       1  \n",
       "3074      1   1     3       0  \n",
       "\n",
       "[3075 rows x 14 columns]"
      ]
     },
     "execution_count": 3,
     "metadata": {},
     "output_type": "execute_result"
    }
   ],
   "source": [
    "data"
   ]
  },
  {
   "cell_type": "markdown",
   "id": "4b3143f3",
   "metadata": {},
   "source": [
    "## Now Define Function to  Calculate Entropy"
   ]
  },
  {
   "cell_type": "code",
   "execution_count": 4,
   "id": "c355d01d",
   "metadata": {},
   "outputs": [],
   "source": [
    "def entropy(y):\n",
    "    elements,value_counts = np.unique(y,return_counts=True)\n",
    "    probabilities = value_counts / value_counts.sum()\n",
    "    entropy = -np.sum(probabilities * np.log2(probabilities))\n",
    "    return entropy\n",
    "  "
   ]
  },
  {
   "cell_type": "markdown",
   "id": "c3ad0412",
   "metadata": {},
   "source": [
    "## Define function to Calculate Information Gain"
   ]
  },
  {
   "cell_type": "code",
   "execution_count": 5,
   "id": "3ccc1ba9",
   "metadata": {},
   "outputs": [],
   "source": [
    "def information_gain(data, split_attribute, target):\n",
    "    total_entropy = entropy(data[target])\n",
    "\n",
    "    elements, value_counts = np.unique(data[split_attribute], return_counts=True)\n",
    "\n",
    "    weighted_entropy = 0.0\n",
    "    for i in range(len(elements)):\n",
    "        subset = data[data[split_attribute] == elements[i]]\n",
    "        weighted_entropy += (value_counts[i] / value_counts.sum()) * entropy(subset[target])\n",
    "\n",
    "    information_gain = total_entropy - weighted_entropy\n",
    "    return information_gain\n",
    "   "
   ]
  },
  {
   "cell_type": "markdown",
   "id": "3b13d66b",
   "metadata": {},
   "source": [
    "## Implement ID3 Algo"
   ]
  },
  {
   "cell_type": "code",
   "execution_count": 6,
   "id": "e24c1ace",
   "metadata": {},
   "outputs": [],
   "source": [
    "def id3(data, features, target):\n",
    "    # If all labels are same → return the label\n",
    "    if len(np.unique(data[target])) == 1:\n",
    "        return data[target].iloc[0] \n",
    "   \n",
    "    \n",
    "    # If no features left → return majority label\n",
    "    if len(features) == 0:\n",
    "        return data[target].mode()[0]\n",
    "    \n",
    "    \n",
    "    # Choose best feature\n",
    "    gains = [information_gain(data, feature, target) for feature in features]\n",
    "    best_feature = features[np.argmax(gains)]\n",
    "\n",
    "    tree = {best_feature: {}}\n",
    "\n",
    "    \n",
    "    # For each value of best feature → branch\n",
    "    for value in np.unique(data[best_feature]):\n",
    "        sub_data = data[data[best_feature] == value].drop(columns=[best_feature])\n",
    "        sub_tree = id3(sub_data, [f for f in features if f != best_feature], target)\n",
    "        tree[best_feature][value] = sub_tree\n",
    "        \n",
    "    # Return the tree    \n",
    "    return tree"
   ]
  },
  {
   "cell_type": "markdown",
   "id": "ae7b171a",
   "metadata": {},
   "source": [
    "## Use ID3"
   ]
  },
  {
   "cell_type": "code",
   "execution_count": 7,
   "id": "f3a2845c",
   "metadata": {},
   "outputs": [],
   "source": [
    "id3_tree = id3(data, data.columns[:-1], 'target')"
   ]
  },
  {
   "cell_type": "markdown",
   "id": "4d2956ef",
   "metadata": {},
   "source": [
    "## Print Tree"
   ]
  },
  {
   "cell_type": "code",
   "execution_count": 8,
   "id": "d4b746b7",
   "metadata": {},
   "outputs": [
    {
     "name": "stdout",
     "output_type": "stream",
     "text": [
      "ID3 Decision Tree:  {'chol': {np.int64(126): np.int64(1), np.int64(131): np.int64(0), np.int64(141): np.int64(1), np.int64(149): {'age': {np.int64(49): np.int64(0), np.int64(71): np.int64(1)}}, np.int64(157): np.int64(1), np.int64(160): np.int64(1), np.int64(164): np.int64(0), np.int64(166): np.int64(0), np.int64(167): np.int64(0), np.int64(168): np.int64(1), np.int64(169): np.int64(0), np.int64(172): np.int64(0), np.int64(174): np.int64(0), np.int64(175): np.int64(1), np.int64(176): np.int64(0), np.int64(177): {'age': {np.int64(43): np.int64(0), np.int64(46): np.int64(1), np.int64(59): np.int64(0), np.int64(65): np.int64(1)}}, np.int64(178): np.int64(1), np.int64(180): np.int64(1), np.int64(182): np.int64(1), np.int64(183): np.int64(1), np.int64(184): np.int64(0), np.int64(185): np.int64(0), np.int64(186): np.int64(1), np.int64(187): np.int64(0), np.int64(188): np.int64(0), np.int64(192): np.int64(1), np.int64(193): {'age': {np.int64(56): np.int64(1), np.int64(68): np.int64(0)}}, np.int64(195): np.int64(1), np.int64(196): np.int64(1), np.int64(197): {'age': {np.int64(44): np.int64(0), np.int64(46): np.int64(1), np.int64(53): np.int64(1), np.int64(58): np.int64(1), np.int64(63): np.int64(0), np.int64(76): np.int64(1)}}, np.int64(198): {'age': {np.int64(35): np.int64(0), np.int64(41): np.int64(1)}}, np.int64(199): np.int64(1), np.int64(200): np.int64(0), np.int64(201): np.int64(1), np.int64(203): {'age': {np.int64(41): np.int64(1), np.int64(53): np.int64(0), np.int64(61): np.int64(0)}}, np.int64(204): {'age': {np.int64(29): np.int64(1), np.int64(41): np.int64(1), np.int64(46): np.int64(1), np.int64(47): np.int64(1), np.int64(52): np.int64(0), np.int64(59): np.int64(0)}}, np.int64(205): {'age': {np.int64(52): np.int64(1), np.int64(55): np.int64(0)}}, np.int64(206): np.int64(0), np.int64(207): {'age': {np.int64(57): np.int64(1), np.int64(61): np.int64(0)}}, np.int64(208): np.int64(1), np.int64(209): np.int64(1), np.int64(210): np.int64(1), np.int64(211): np.int64(1), np.int64(212): {'age': {np.int64(52): np.int64(0), np.int64(59): np.int64(1), np.int64(64): np.int64(0), np.int64(66): np.int64(0), np.int64(67): np.int64(0)}}, np.int64(213): np.int64(1), np.int64(214): np.int64(1), np.int64(215): np.int64(1), np.int64(216): {'age': {np.int64(53): np.int64(1), np.int64(58): np.int64(0)}}, np.int64(217): np.int64(0), np.int64(218): np.int64(0), np.int64(219): {'age': {np.int64(39): np.int64(0), np.int64(44): np.int64(1), np.int64(50): np.int64(1)}}, np.int64(220): np.int64(1), np.int64(221): np.int64(1), np.int64(222): np.int64(1), np.int64(223): {'age': {np.int64(40): np.int64(0), np.int64(52): np.int64(1), np.int64(67): np.int64(1)}}, np.int64(224): np.int64(0), np.int64(225): np.int64(0), np.int64(226): np.int64(1), np.int64(227): np.int64(1), np.int64(228): {'sex': {np.int64(0): np.int64(0), np.int64(1): np.int64(1)}}, np.int64(229): np.int64(0), np.int64(230): np.int64(0), np.int64(231): {'age': {np.int64(38): np.int64(0), np.int64(46): np.int64(0), np.int64(62): np.int64(1)}}, np.int64(232): {'age': {np.int64(54): np.int64(1), np.int64(57): np.int64(0)}}, np.int64(233): {'age': {np.int64(44): np.int64(1), np.int64(50): np.int64(0), np.int64(52): np.int64(1), np.int64(63): np.int64(1)}}, np.int64(234): {'age': {np.int64(45): np.int64(1), np.int64(53): np.int64(1), np.int64(58): np.int64(0), np.int64(59): np.int64(1), np.int64(61): np.int64(0), np.int64(69): np.int64(1)}}, np.int64(235): np.int64(1), np.int64(236): {'age': {np.int64(45): np.int64(1), np.int64(56): np.int64(1), np.int64(57): np.int64(0)}}, np.int64(237): np.int64(0), np.int64(239): {'trestbps': {np.int64(110): np.int64(0), np.int64(140): np.int64(1)}}, np.int64(240): np.int64(1), np.int64(241): np.int64(0), np.int64(242): np.int64(1), np.int64(243): {'age': {np.int64(46): np.int64(1), np.int64(47): np.int64(0), np.int64(50): np.int64(0), np.int64(61): np.int64(1)}}, np.int64(244): {'age': {np.int64(42): np.int64(1), np.int64(50): np.int64(1), np.int64(62): np.int64(0)}}, np.int64(245): np.int64(1), np.int64(246): {'age': {np.int64(53): np.int64(1), np.int64(64): np.int64(0), np.int64(66): np.int64(0)}}, np.int64(247): {'trestbps': {np.int64(132): np.int64(0), np.int64(150): np.int64(1)}}, np.int64(248): {'age': {np.int64(58): np.int64(1), np.int64(65): np.int64(0)}}, np.int64(249): np.int64(0), np.int64(250): np.int64(1), np.int64(252): np.int64(1), np.int64(253): {'age': {np.int64(47): np.int64(1), np.int64(60): np.int64(0)}}, np.int64(254): {'age': {np.int64(50): np.int64(1), np.int64(63): np.int64(0), np.int64(65): np.int64(0), np.int64(67): np.int64(0), np.int64(69): np.int64(0)}}, np.int64(255): {'age': {np.int64(48): np.int64(1), np.int64(52): np.int64(0)}}, np.int64(256): {'age': {np.int64(48): np.int64(0), np.int64(51): np.int64(1), np.int64(56): np.int64(0)}}, np.int64(257): np.int64(1), np.int64(258): {'age': {np.int64(54): np.int64(1), np.int64(60): np.int64(0)}}, np.int64(259): np.int64(0), np.int64(260): {'age': {np.int64(45): np.int64(1), np.int64(61): np.int64(0)}}, np.int64(261): {'age': {np.int64(51): np.int64(1), np.int64(57): np.int64(0)}}, np.int64(262): np.int64(1), np.int64(263): {'age': {np.int64(44): np.int64(1), np.int64(62): np.int64(0), np.int64(64): np.int64(1)}}, np.int64(264): {'age': {np.int64(45): np.int64(0), np.int64(53): np.int64(1)}}, np.int64(265): np.int64(1), np.int64(266): {'age': {np.int64(49): np.int64(1), np.int64(54): np.int64(0)}}, np.int64(267): {'age': {np.int64(54): np.int64(1), np.int64(62): np.int64(0)}}, np.int64(268): {'age': {np.int64(41): np.int64(1), np.int64(62): np.int64(0)}}, np.int64(269): {'age': {np.int64(49): np.int64(1), np.int64(63): np.int64(0), np.int64(65): np.int64(1), np.int64(70): np.int64(0), np.int64(74): np.int64(1)}}, np.int64(270): {'age': {np.int64(58): np.int64(0), np.int64(59): np.int64(1)}}, np.int64(271): np.int64(1), np.int64(273): {'age': {np.int64(54): np.int64(1), np.int64(59): np.int64(0)}}, np.int64(274): np.int64(0), np.int64(275): {'age': {np.int64(47): np.int64(0), np.int64(48): np.int64(1)}}, np.int64(276): np.int64(0), np.int64(277): np.int64(1), np.int64(278): np.int64(1), np.int64(281): np.int64(0), np.int64(282): np.int64(0), np.int64(283): {'age': {np.int64(54): np.int64(0), np.int64(56): np.int64(0), np.int64(58): np.int64(1)}}, np.int64(284): np.int64(0), np.int64(286): np.int64(0), np.int64(288): {'age': {np.int64(54): np.int64(1), np.int64(56): np.int64(0), np.int64(59): np.int64(0)}}, np.int64(289): np.int64(0), np.int64(290): np.int64(0), np.int64(293): np.int64(0), np.int64(294): {'age': {np.int64(56): np.int64(1), np.int64(62): np.int64(0)}}, np.int64(295): np.int64(1), np.int64(298): {'age': {np.int64(51): np.int64(0), np.int64(52): np.int64(1)}}, np.int64(299): np.int64(0), np.int64(300): np.int64(0), np.int64(302): np.int64(1), np.int64(303): np.int64(1), np.int64(304): {'age': {np.int64(54): np.int64(1), np.int64(77): np.int64(0)}}, np.int64(305): np.int64(0), np.int64(306): np.int64(1), np.int64(307): np.int64(0), np.int64(308): np.int64(1), np.int64(309): {'age': {np.int64(45): np.int64(0), np.int64(54): np.int64(1), np.int64(64): np.int64(0)}}, np.int64(311): np.int64(0), np.int64(313): np.int64(1), np.int64(315): {'age': {np.int64(42): np.int64(0), np.int64(43): np.int64(1)}}, np.int64(318): {'age': {np.int64(58): np.int64(0), np.int64(60): np.int64(1)}}, np.int64(319): np.int64(0), np.int64(321): np.int64(1), np.int64(322): np.int64(0), np.int64(325): np.int64(1), np.int64(326): np.int64(0), np.int64(327): np.int64(0), np.int64(330): np.int64(0), np.int64(335): np.int64(0), np.int64(340): np.int64(1), np.int64(341): np.int64(0), np.int64(342): np.int64(1), np.int64(353): np.int64(0), np.int64(354): np.int64(1), np.int64(360): np.int64(1), np.int64(394): np.int64(1), np.int64(407): np.int64(0), np.int64(409): np.int64(0), np.int64(417): np.int64(1), np.int64(564): np.int64(1)}}\n"
     ]
    }
   ],
   "source": [
    "print(\"ID3 Decision Tree: \", id3_tree)\n"
   ]
  }
 ],
 "metadata": {
  "kernelspec": {
   "display_name": "Python 3",
   "language": "python",
   "name": "python3"
  },
  "language_info": {
   "codemirror_mode": {
    "name": "ipython",
    "version": 3
   },
   "file_extension": ".py",
   "mimetype": "text/x-python",
   "name": "python",
   "nbconvert_exporter": "python",
   "pygments_lexer": "ipython3",
   "version": "3.13.0"
  }
 },
 "nbformat": 4,
 "nbformat_minor": 5
}
