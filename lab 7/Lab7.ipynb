{
 "cells": [
  {
   "cell_type": "markdown",
   "id": "02b33ee5",
   "metadata": {},
   "source": [
    "<a href='https://www.darshan.ac.in/'> <img src='https://www.darshan.ac.in/Content/media/DU_Logo.svg' width=\"250\" height=\"300\"/></a>\n",
    "<pre>\n",
    "<center><b><h1>Data Mining</b></center>\n",
    "<center><b><h1>Lab - 7 (Part 2)</b></center>    \n",
    "<pre>"
   ]
  },
  {
   "cell_type": "code",
   "execution_count": 1,
   "id": "607b11dd",
   "metadata": {},
   "outputs": [],
   "source": [
    "import pandas as pd\n",
    "import numpy as np\n",
    "import matplotlib.pyplot as plt "
   ]
  },
  {
   "cell_type": "markdown",
   "id": "08f0806f",
   "metadata": {},
   "source": [
    "### Step 1: Load the Dataset\n",
    "Load the `Tdata.csv` file and display the first few rows."
   ]
  },
  {
   "cell_type": "code",
   "execution_count": 2,
   "id": "dd419a98",
   "metadata": {},
   "outputs": [
    {
     "data": {
      "text/html": [
       "<div>\n",
       "<style scoped>\n",
       "    .dataframe tbody tr th:only-of-type {\n",
       "        vertical-align: middle;\n",
       "    }\n",
       "\n",
       "    .dataframe tbody tr th {\n",
       "        vertical-align: top;\n",
       "    }\n",
       "\n",
       "    .dataframe thead th {\n",
       "        text-align: right;\n",
       "    }\n",
       "</style>\n",
       "<table border=\"1\" class=\"dataframe\">\n",
       "  <thead>\n",
       "    <tr style=\"text-align: right;\">\n",
       "      <th></th>\n",
       "      <th>Transaction</th>\n",
       "      <th>bread</th>\n",
       "      <th>butter</th>\n",
       "      <th>coffee</th>\n",
       "      <th>eggs</th>\n",
       "      <th>jam</th>\n",
       "      <th>milk</th>\n",
       "    </tr>\n",
       "  </thead>\n",
       "  <tbody>\n",
       "    <tr>\n",
       "      <th>0</th>\n",
       "      <td>T1</td>\n",
       "      <td>1</td>\n",
       "      <td>1</td>\n",
       "      <td>0</td>\n",
       "      <td>0</td>\n",
       "      <td>0</td>\n",
       "      <td>1</td>\n",
       "    </tr>\n",
       "    <tr>\n",
       "      <th>1</th>\n",
       "      <td>T2</td>\n",
       "      <td>1</td>\n",
       "      <td>1</td>\n",
       "      <td>0</td>\n",
       "      <td>0</td>\n",
       "      <td>1</td>\n",
       "      <td>0</td>\n",
       "    </tr>\n",
       "    <tr>\n",
       "      <th>2</th>\n",
       "      <td>T3</td>\n",
       "      <td>1</td>\n",
       "      <td>0</td>\n",
       "      <td>0</td>\n",
       "      <td>1</td>\n",
       "      <td>0</td>\n",
       "      <td>1</td>\n",
       "    </tr>\n",
       "    <tr>\n",
       "      <th>3</th>\n",
       "      <td>T4</td>\n",
       "      <td>1</td>\n",
       "      <td>1</td>\n",
       "      <td>0</td>\n",
       "      <td>0</td>\n",
       "      <td>0</td>\n",
       "      <td>1</td>\n",
       "    </tr>\n",
       "    <tr>\n",
       "      <th>4</th>\n",
       "      <td>T5</td>\n",
       "      <td>1</td>\n",
       "      <td>0</td>\n",
       "      <td>1</td>\n",
       "      <td>0</td>\n",
       "      <td>0</td>\n",
       "      <td>0</td>\n",
       "    </tr>\n",
       "    <tr>\n",
       "      <th>5</th>\n",
       "      <td>T6</td>\n",
       "      <td>0</td>\n",
       "      <td>0</td>\n",
       "      <td>1</td>\n",
       "      <td>1</td>\n",
       "      <td>1</td>\n",
       "      <td>0</td>\n",
       "    </tr>\n",
       "  </tbody>\n",
       "</table>\n",
       "</div>"
      ],
      "text/plain": [
       "  Transaction  bread  butter  coffee  eggs  jam  milk\n",
       "0          T1      1       1       0     0    0     1\n",
       "1          T2      1       1       0     0    1     0\n",
       "2          T3      1       0       0     1    0     1\n",
       "3          T4      1       1       0     0    0     1\n",
       "4          T5      1       0       1     0    0     0\n",
       "5          T6      0       0       1     1    1     0"
      ]
     },
     "execution_count": 2,
     "metadata": {},
     "output_type": "execute_result"
    }
   ],
   "source": [
    "Tdata = pd.read_csv('Tdata.csv')\n",
    "Tdata"
   ]
  },
  {
   "cell_type": "markdown",
   "id": "3532ee71",
   "metadata": {},
   "source": [
    "### Step 2: Drop the 'Transaction' Column\n",
    "We're only interested in the items (not the transaction IDs)."
   ]
  },
  {
   "cell_type": "code",
   "execution_count": 3,
   "id": "e2575fe6",
   "metadata": {},
   "outputs": [
    {
     "data": {
      "text/html": [
       "<div>\n",
       "<style scoped>\n",
       "    .dataframe tbody tr th:only-of-type {\n",
       "        vertical-align: middle;\n",
       "    }\n",
       "\n",
       "    .dataframe tbody tr th {\n",
       "        vertical-align: top;\n",
       "    }\n",
       "\n",
       "    .dataframe thead th {\n",
       "        text-align: right;\n",
       "    }\n",
       "</style>\n",
       "<table border=\"1\" class=\"dataframe\">\n",
       "  <thead>\n",
       "    <tr style=\"text-align: right;\">\n",
       "      <th></th>\n",
       "      <th>bread</th>\n",
       "      <th>butter</th>\n",
       "      <th>coffee</th>\n",
       "      <th>eggs</th>\n",
       "      <th>jam</th>\n",
       "      <th>milk</th>\n",
       "    </tr>\n",
       "  </thead>\n",
       "  <tbody>\n",
       "    <tr>\n",
       "      <th>0</th>\n",
       "      <td>1</td>\n",
       "      <td>1</td>\n",
       "      <td>0</td>\n",
       "      <td>0</td>\n",
       "      <td>0</td>\n",
       "      <td>1</td>\n",
       "    </tr>\n",
       "    <tr>\n",
       "      <th>1</th>\n",
       "      <td>1</td>\n",
       "      <td>1</td>\n",
       "      <td>0</td>\n",
       "      <td>0</td>\n",
       "      <td>1</td>\n",
       "      <td>0</td>\n",
       "    </tr>\n",
       "    <tr>\n",
       "      <th>2</th>\n",
       "      <td>1</td>\n",
       "      <td>0</td>\n",
       "      <td>0</td>\n",
       "      <td>1</td>\n",
       "      <td>0</td>\n",
       "      <td>1</td>\n",
       "    </tr>\n",
       "    <tr>\n",
       "      <th>3</th>\n",
       "      <td>1</td>\n",
       "      <td>1</td>\n",
       "      <td>0</td>\n",
       "      <td>0</td>\n",
       "      <td>0</td>\n",
       "      <td>1</td>\n",
       "    </tr>\n",
       "    <tr>\n",
       "      <th>4</th>\n",
       "      <td>1</td>\n",
       "      <td>0</td>\n",
       "      <td>1</td>\n",
       "      <td>0</td>\n",
       "      <td>0</td>\n",
       "      <td>0</td>\n",
       "    </tr>\n",
       "    <tr>\n",
       "      <th>5</th>\n",
       "      <td>0</td>\n",
       "      <td>0</td>\n",
       "      <td>1</td>\n",
       "      <td>1</td>\n",
       "      <td>1</td>\n",
       "      <td>0</td>\n",
       "    </tr>\n",
       "  </tbody>\n",
       "</table>\n",
       "</div>"
      ],
      "text/plain": [
       "   bread  butter  coffee  eggs  jam  milk\n",
       "0      1       1       0     0    0     1\n",
       "1      1       1       0     0    1     0\n",
       "2      1       0       0     1    0     1\n",
       "3      1       1       0     0    0     1\n",
       "4      1       0       1     0    0     0\n",
       "5      0       0       1     1    1     0"
      ]
     },
     "execution_count": 3,
     "metadata": {},
     "output_type": "execute_result"
    }
   ],
   "source": [
    "Tdata = Tdata.drop(columns=\"Transaction\")\n",
    "Tdata"
   ]
  },
  {
   "cell_type": "markdown",
   "id": "f1f8e5fa",
   "metadata": {},
   "source": [
    "### Step 3: Count Single Items\n",
    "See how many transactions include each item."
   ]
  },
  {
   "cell_type": "code",
   "execution_count": 4,
   "id": "8770cf10",
   "metadata": {},
   "outputs": [
    {
     "data": {
      "text/plain": [
       "bread     5\n",
       "butter    3\n",
       "coffee    2\n",
       "eggs      2\n",
       "jam       2\n",
       "milk      3\n",
       "dtype: int64"
      ]
     },
     "execution_count": 4,
     "metadata": {},
     "output_type": "execute_result"
    }
   ],
   "source": [
    "Tdata.sum()"
   ]
  },
  {
   "cell_type": "markdown",
   "id": "06a4f0e5",
   "metadata": {},
   "source": [
    "### Step 4: Define Apriori Function\n",
    "This function finds frequent itemsets of size 1, 2, and 3 with minimum support."
   ]
  },
  {
   "cell_type": "code",
   "execution_count": 5,
   "id": "d11baaab",
   "metadata": {},
   "outputs": [],
   "source": [
    "from itertools import combinations\n",
    "\n",
    "def find_frequent_itemsets(Tdata, min_support):\n",
    "    n = len(Tdata)\n",
    "    result = []\n",
    "\n",
    "    for k in [1, 2, 3]:\n",
    "        for items in combinations(Tdata.columns, k):\n",
    "            mask = Tdata[list(items)].all(axis=1)\n",
    "            support = mask.sum() / n\n",
    "            print(f\"{set(items)} -> support: {round(support, 2)}\")\n",
    "            \n",
    "            if support >= min_support:\n",
    "                result.append((frozenset(items), round(support, 2)))\n",
    "    return result"
   ]
  },
  {
   "cell_type": "markdown",
   "id": "ec43a005",
   "metadata": {},
   "source": [
    "### Step 5: Run Apriori\n",
    "Set `min_support = 0.6` and display the frequent itemsets."
   ]
  },
  {
   "cell_type": "code",
   "execution_count": 11,
   "id": "c6e33702",
   "metadata": {},
   "outputs": [
    {
     "name": "stdout",
     "output_type": "stream",
     "text": [
      "{'bread'} -> support: 0.83\n",
      "{'butter'} -> support: 0.5\n",
      "{'coffee'} -> support: 0.33\n",
      "{'eggs'} -> support: 0.33\n",
      "{'jam'} -> support: 0.33\n",
      "{'milk'} -> support: 0.5\n",
      "{'butter', 'bread'} -> support: 0.5\n",
      "{'coffee', 'bread'} -> support: 0.17\n",
      "{'eggs', 'bread'} -> support: 0.17\n",
      "{'jam', 'bread'} -> support: 0.17\n",
      "{'milk', 'bread'} -> support: 0.5\n",
      "{'coffee', 'butter'} -> support: 0.0\n",
      "{'butter', 'eggs'} -> support: 0.0\n",
      "{'jam', 'butter'} -> support: 0.17\n",
      "{'milk', 'butter'} -> support: 0.33\n",
      "{'coffee', 'eggs'} -> support: 0.17\n",
      "{'jam', 'coffee'} -> support: 0.17\n",
      "{'coffee', 'milk'} -> support: 0.0\n",
      "{'jam', 'eggs'} -> support: 0.17\n",
      "{'milk', 'eggs'} -> support: 0.17\n",
      "{'jam', 'milk'} -> support: 0.0\n",
      "{'coffee', 'butter', 'bread'} -> support: 0.0\n",
      "{'butter', 'eggs', 'bread'} -> support: 0.0\n",
      "{'jam', 'butter', 'bread'} -> support: 0.17\n",
      "{'milk', 'butter', 'bread'} -> support: 0.33\n",
      "{'coffee', 'eggs', 'bread'} -> support: 0.0\n",
      "{'jam', 'coffee', 'bread'} -> support: 0.0\n",
      "{'coffee', 'milk', 'bread'} -> support: 0.0\n",
      "{'jam', 'eggs', 'bread'} -> support: 0.0\n",
      "{'milk', 'eggs', 'bread'} -> support: 0.17\n",
      "{'jam', 'milk', 'bread'} -> support: 0.0\n",
      "{'coffee', 'butter', 'eggs'} -> support: 0.0\n",
      "{'jam', 'coffee', 'butter'} -> support: 0.0\n",
      "{'coffee', 'milk', 'butter'} -> support: 0.0\n",
      "{'jam', 'butter', 'eggs'} -> support: 0.0\n",
      "{'milk', 'butter', 'eggs'} -> support: 0.0\n",
      "{'jam', 'milk', 'butter'} -> support: 0.0\n",
      "{'jam', 'coffee', 'eggs'} -> support: 0.17\n",
      "{'coffee', 'milk', 'eggs'} -> support: 0.0\n",
      "{'jam', 'coffee', 'milk'} -> support: 0.0\n",
      "{'jam', 'milk', 'eggs'} -> support: 0.0\n"
     ]
    }
   ],
   "source": [
    "frequent_itemsets = find_frequent_itemsets(Tdata, 0.6)"
   ]
  },
  {
   "cell_type": "markdown",
   "id": "0026f6da",
   "metadata": {},
   "source": [
    "### Step 6 Display as a DataFrame"
   ]
  },
  {
   "cell_type": "code",
   "execution_count": 12,
   "id": "2c772d61",
   "metadata": {},
   "outputs": [
    {
     "data": {
      "text/html": [
       "<div>\n",
       "<style scoped>\n",
       "    .dataframe tbody tr th:only-of-type {\n",
       "        vertical-align: middle;\n",
       "    }\n",
       "\n",
       "    .dataframe tbody tr th {\n",
       "        vertical-align: top;\n",
       "    }\n",
       "\n",
       "    .dataframe thead th {\n",
       "        text-align: right;\n",
       "    }\n",
       "</style>\n",
       "<table border=\"1\" class=\"dataframe\">\n",
       "  <thead>\n",
       "    <tr style=\"text-align: right;\">\n",
       "      <th></th>\n",
       "      <th>Itemset</th>\n",
       "      <th>Support</th>\n",
       "    </tr>\n",
       "  </thead>\n",
       "  <tbody>\n",
       "    <tr>\n",
       "      <th>0</th>\n",
       "      <td>(bread,)</td>\n",
       "      <td>0.83</td>\n",
       "    </tr>\n",
       "  </tbody>\n",
       "</table>\n",
       "</div>"
      ],
      "text/plain": [
       "    Itemset  Support\n",
       "0  (bread,)     0.83"
      ]
     },
     "execution_count": 12,
     "metadata": {},
     "output_type": "execute_result"
    }
   ],
   "source": [
    "formatted_itemsets = [(tuple(itemset), support) for itemset, support in frequent_itemsets]\n",
    "\n",
    "frequent_df = pd.DataFrame(formatted_itemsets, columns=[\"Itemset\", \"Support\"])\n",
    "\n",
    "frequent_df"
   ]
  },
  {
   "cell_type": "markdown",
   "id": "068f6cea",
   "metadata": {},
   "source": [
    "# Orange Tool : - >Generate Same Frequent Patterns in Orange tools"
   ]
  },
  {
   "cell_type": "markdown",
   "id": "744909d6",
   "metadata": {},
   "source": [
    "# Extra : - >  Define Apriori Function without itertools"
   ]
  },
  {
   "cell_type": "code",
   "execution_count": 13,
   "id": "db8ff032",
   "metadata": {},
   "outputs": [],
   "source": [
    "def apriori_without_itertools(Tdata, min_support):\n",
    "    n = len(Tdata)\n",
    "    result = []\n",
    "\n",
    "    columns = list(Tdata.columns)\n",
    "\n",
    "    # 1-itemsets\n",
    "    for i in range(len(columns)):\n",
    "        item1 = columns[i]\n",
    "        support = Tdata[item1].sum() / n\n",
    "        if support >= min_support:\n",
    "            result.append((frozenset([item1]), round(support, 2)))\n",
    "            print(f\"{set([item1])} -> support: {round(support, 2)}\")\n",
    "\n",
    "    # 2-itemsets\n",
    "    for i in range(len(columns)):\n",
    "        for j in range(i + 1, len(columns)):\n",
    "            item1, item2 = columns[i], columns[j]\n",
    "            support = Tdata[item1].mul(Tdata[item2]).sum() / n\n",
    "            if support >= min_support:\n",
    "                result.append((frozenset([item1, item2]), round(support, 2)))\n",
    "                print(f\"{set([item1, item2])} -> support: {round(support, 2)}\")\n",
    "\n",
    "    # 3-itemsets\n",
    "    for i in range(len(columns)):\n",
    "        for j in range(i + 1, len(columns)):\n",
    "            for k in range(j + 1, len(columns)):\n",
    "                item1, item2, item3 = columns[i], columns[j], columns[k]\n",
    "                support = Tdata[item1].mul(Tdata[item2]).mul(Tdata[item3]).sum() / n\n",
    "                if support >= min_support:\n",
    "                    result.append((frozenset([item1, item2, item3]), round(support, 2)))\n",
    "                    print(f\"{set([item1, item2, item3])} -> support: {round(support, 2)}\")\n",
    "\n",
    "    return result\n"
   ]
  },
  {
   "cell_type": "code",
   "execution_count": 15,
   "id": "d71a9b00",
   "metadata": {},
   "outputs": [
    {
     "name": "stdout",
     "output_type": "stream",
     "text": [
      "{'bread'} -> support: 0.83\n"
     ]
    }
   ],
   "source": [
    "min_support = 0.6\n",
    "frequent_itemsets = apriori_without_itertools(Tdata, min_support)"
   ]
  }
 ],
 "metadata": {
  "kernelspec": {
   "display_name": "Python 3",
   "language": "python",
   "name": "python3"
  },
  "language_info": {
   "codemirror_mode": {
    "name": "ipython",
    "version": 3
   },
   "file_extension": ".py",
   "mimetype": "text/x-python",
   "name": "python",
   "nbconvert_exporter": "python",
   "pygments_lexer": "ipython3",
   "version": "3.13.0"
  }
 },
 "nbformat": 4,
 "nbformat_minor": 5
}
