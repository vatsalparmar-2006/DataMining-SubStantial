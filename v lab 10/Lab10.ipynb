{
 "cells": [
  {
   "cell_type": "markdown",
   "id": "02b33ee5",
   "metadata": {},
   "source": [
    "<a href='https://www.darshan.ac.in/'> <img src='https://www.darshan.ac.in/Content/media/DU_Logo.svg' width=\"250\" height=\"300\"/></a>\n",
    "<pre>\n",
    "<center><b><h1>Data Mining</b></center>\n",
    "<center><b><h1>Lab - 10</b></center>    \n",
    "<hr>   \n",
    "<center><b><h1>Vatsal Parmar | 23010101196</b></center>    \n",
    "<pre>"
   ]
  },
  {
   "cell_type": "markdown",
   "id": "0a09b1b5",
   "metadata": {},
   "source": [
    "\n",
    "\n",
    "# Implement Decision Tree(ID3) in python\n",
    "Uses Information Gain to choose the best feature to split. \n",
    "\n",
    "Recursively builds the tree until stopping conditions are met."
   ]
  },
  {
   "cell_type": "markdown",
   "id": "a811596d",
   "metadata": {},
   "source": [
    "1) Calculate Entropy for the dataset.<BR>\n",
    "2) Calculate Information Gain for each feature. <BR>\n",
    "3) Choose the feature with maximum Information Gain. <BR>\n",
    "4) Split dataset into subsets for that feature. <BR>\n",
    "5) Repeat recursively until: <BR>\n",
    "\n",
    "All samples in a node have the same label.<BR>\n",
    "No features are left.<BR>\n",
    "No data is left."
   ]
  },
  {
   "cell_type": "markdown",
   "id": "a2a39aab",
   "metadata": {},
   "source": [
    "### Step 2. Import the dataset from this [address](https://raw.githubusercontent.com/justmarkham/DAT8/master/data/chipotle.tsv). "
   ]
  },
  {
   "cell_type": "markdown",
   "id": "6116e372",
   "metadata": {},
   "source": [
    "##  import Pandas, Numpy"
   ]
  },
  {
   "cell_type": "code",
   "execution_count": 1,
   "id": "e30bca04",
   "metadata": {},
   "outputs": [],
   "source": [
    "import pandas as pd\n",
    "import numpy as np"
   ]
  },
  {
   "cell_type": "markdown",
   "id": "c6040543",
   "metadata": {},
   "source": [
    "##  Create Following Data"
   ]
  },
  {
   "cell_type": "code",
   "execution_count": 2,
   "id": "060c6cb6",
   "metadata": {},
   "outputs": [],
   "source": [
    "data = pd.DataFrame({\n",
    "    'Outlook': ['Sunny', 'Sunny', 'Overcast', 'Rain', 'Rain', 'Rain', 'Overcast', 'Sunny', 'Sunny', 'Rain', 'Sunny', 'Overcast', 'Overcast', 'Rain'],\n",
    "    'Temperature': ['Hot', 'Hot', 'Hot', 'Mild', 'Cool', 'Cool', 'Cool', 'Mild', 'Cool', 'Mild', 'Mild', 'Mild', 'Hot', 'Mild'],\n",
    "    'Humidity': ['High', 'High', 'High', 'High', 'Normal', 'Normal', 'Normal', 'High', 'Normal', 'Normal', 'Normal', 'High', 'Normal', 'High'],\n",
    "    'Wind': ['Weak', 'Strong', 'Weak', 'Weak', 'Weak', 'Strong', 'Strong', 'Weak', 'Weak', 'Weak', 'Strong', 'Strong', 'Weak', 'Strong'],\n",
    "    'PlayTennis': ['No', 'No', 'Yes', 'Yes', 'Yes', 'No', 'Yes', 'No', 'Yes', 'Yes', 'Yes', 'Yes', 'Yes', 'No']\n",
    "})"
   ]
  },
  {
   "cell_type": "code",
   "execution_count": 3,
   "id": "b0fc0487",
   "metadata": {},
   "outputs": [
    {
     "data": {
      "text/html": [
       "<div>\n",
       "<style scoped>\n",
       "    .dataframe tbody tr th:only-of-type {\n",
       "        vertical-align: middle;\n",
       "    }\n",
       "\n",
       "    .dataframe tbody tr th {\n",
       "        vertical-align: top;\n",
       "    }\n",
       "\n",
       "    .dataframe thead th {\n",
       "        text-align: right;\n",
       "    }\n",
       "</style>\n",
       "<table border=\"1\" class=\"dataframe\">\n",
       "  <thead>\n",
       "    <tr style=\"text-align: right;\">\n",
       "      <th></th>\n",
       "      <th>Outlook</th>\n",
       "      <th>Temperature</th>\n",
       "      <th>Humidity</th>\n",
       "      <th>Wind</th>\n",
       "      <th>PlayTennis</th>\n",
       "    </tr>\n",
       "  </thead>\n",
       "  <tbody>\n",
       "    <tr>\n",
       "      <th>0</th>\n",
       "      <td>Sunny</td>\n",
       "      <td>Hot</td>\n",
       "      <td>High</td>\n",
       "      <td>Weak</td>\n",
       "      <td>No</td>\n",
       "    </tr>\n",
       "    <tr>\n",
       "      <th>1</th>\n",
       "      <td>Sunny</td>\n",
       "      <td>Hot</td>\n",
       "      <td>High</td>\n",
       "      <td>Strong</td>\n",
       "      <td>No</td>\n",
       "    </tr>\n",
       "    <tr>\n",
       "      <th>2</th>\n",
       "      <td>Overcast</td>\n",
       "      <td>Hot</td>\n",
       "      <td>High</td>\n",
       "      <td>Weak</td>\n",
       "      <td>Yes</td>\n",
       "    </tr>\n",
       "    <tr>\n",
       "      <th>3</th>\n",
       "      <td>Rain</td>\n",
       "      <td>Mild</td>\n",
       "      <td>High</td>\n",
       "      <td>Weak</td>\n",
       "      <td>Yes</td>\n",
       "    </tr>\n",
       "    <tr>\n",
       "      <th>4</th>\n",
       "      <td>Rain</td>\n",
       "      <td>Cool</td>\n",
       "      <td>Normal</td>\n",
       "      <td>Weak</td>\n",
       "      <td>Yes</td>\n",
       "    </tr>\n",
       "    <tr>\n",
       "      <th>5</th>\n",
       "      <td>Rain</td>\n",
       "      <td>Cool</td>\n",
       "      <td>Normal</td>\n",
       "      <td>Strong</td>\n",
       "      <td>No</td>\n",
       "    </tr>\n",
       "    <tr>\n",
       "      <th>6</th>\n",
       "      <td>Overcast</td>\n",
       "      <td>Cool</td>\n",
       "      <td>Normal</td>\n",
       "      <td>Strong</td>\n",
       "      <td>Yes</td>\n",
       "    </tr>\n",
       "    <tr>\n",
       "      <th>7</th>\n",
       "      <td>Sunny</td>\n",
       "      <td>Mild</td>\n",
       "      <td>High</td>\n",
       "      <td>Weak</td>\n",
       "      <td>No</td>\n",
       "    </tr>\n",
       "    <tr>\n",
       "      <th>8</th>\n",
       "      <td>Sunny</td>\n",
       "      <td>Cool</td>\n",
       "      <td>Normal</td>\n",
       "      <td>Weak</td>\n",
       "      <td>Yes</td>\n",
       "    </tr>\n",
       "    <tr>\n",
       "      <th>9</th>\n",
       "      <td>Rain</td>\n",
       "      <td>Mild</td>\n",
       "      <td>Normal</td>\n",
       "      <td>Weak</td>\n",
       "      <td>Yes</td>\n",
       "    </tr>\n",
       "    <tr>\n",
       "      <th>10</th>\n",
       "      <td>Sunny</td>\n",
       "      <td>Mild</td>\n",
       "      <td>Normal</td>\n",
       "      <td>Strong</td>\n",
       "      <td>Yes</td>\n",
       "    </tr>\n",
       "    <tr>\n",
       "      <th>11</th>\n",
       "      <td>Overcast</td>\n",
       "      <td>Mild</td>\n",
       "      <td>High</td>\n",
       "      <td>Strong</td>\n",
       "      <td>Yes</td>\n",
       "    </tr>\n",
       "    <tr>\n",
       "      <th>12</th>\n",
       "      <td>Overcast</td>\n",
       "      <td>Hot</td>\n",
       "      <td>Normal</td>\n",
       "      <td>Weak</td>\n",
       "      <td>Yes</td>\n",
       "    </tr>\n",
       "    <tr>\n",
       "      <th>13</th>\n",
       "      <td>Rain</td>\n",
       "      <td>Mild</td>\n",
       "      <td>High</td>\n",
       "      <td>Strong</td>\n",
       "      <td>No</td>\n",
       "    </tr>\n",
       "  </tbody>\n",
       "</table>\n",
       "</div>"
      ],
      "text/plain": [
       "     Outlook Temperature Humidity    Wind PlayTennis\n",
       "0      Sunny         Hot     High    Weak         No\n",
       "1      Sunny         Hot     High  Strong         No\n",
       "2   Overcast         Hot     High    Weak        Yes\n",
       "3       Rain        Mild     High    Weak        Yes\n",
       "4       Rain        Cool   Normal    Weak        Yes\n",
       "5       Rain        Cool   Normal  Strong         No\n",
       "6   Overcast        Cool   Normal  Strong        Yes\n",
       "7      Sunny        Mild     High    Weak         No\n",
       "8      Sunny        Cool   Normal    Weak        Yes\n",
       "9       Rain        Mild   Normal    Weak        Yes\n",
       "10     Sunny        Mild   Normal  Strong        Yes\n",
       "11  Overcast        Mild     High  Strong        Yes\n",
       "12  Overcast         Hot   Normal    Weak        Yes\n",
       "13      Rain        Mild     High  Strong         No"
      ]
     },
     "execution_count": 3,
     "metadata": {},
     "output_type": "execute_result"
    }
   ],
   "source": [
    "data"
   ]
  },
  {
   "cell_type": "markdown",
   "id": "4b3143f3",
   "metadata": {},
   "source": [
    "## Now Define Function to  Calculate Entropy"
   ]
  },
  {
   "cell_type": "code",
   "execution_count": 4,
   "id": "c355d01d",
   "metadata": {},
   "outputs": [],
   "source": [
    "def entropy(y):\n",
    "    value, counts = np.unique(y, return_counts=True)\n",
    "    probabilities = counts / counts.sum()\n",
    "    return -np.sum(probabilities * np.log2(probabilities)) "
   ]
  },
  {
   "cell_type": "markdown",
   "id": "f78c29c1",
   "metadata": {},
   "source": [
    "## Testing of Above Function - \n",
    "y = np.array(['Yes', 'No',   'Yes', 'Yes'])  \n",
    "Function Call - > entropy(y))\n",
    "\n",
    "output - 0.8112781244591328"
   ]
  },
  {
   "cell_type": "code",
   "execution_count": 5,
   "id": "9ad3df81",
   "metadata": {},
   "outputs": [
    {
     "name": "stdout",
     "output_type": "stream",
     "text": [
      "0.8112781244591328\n"
     ]
    }
   ],
   "source": [
    "y = np.array(['Yes', 'No',   'Yes', 'Yes'])\n",
    "print(entropy(y))"
   ]
  },
  {
   "cell_type": "markdown",
   "id": "c3ad0412",
   "metadata": {},
   "source": [
    "## Define function to Calculate Information Gain"
   ]
  },
  {
   "cell_type": "code",
   "execution_count": 6,
   "id": "3ccc1ba9",
   "metadata": {},
   "outputs": [],
   "source": [
    "def information_gain(data, split_attribute, target):\n",
    "    total_entropy = entropy(data[target])\n",
    "    values, counts = np.unique(data[split_attribute], return_counts=True)\n",
    "\n",
    "    weighted_entropy = 0\n",
    "    for i in range(len(values)):\n",
    "        subset = data[data[split_attribute] == values[i]]\n",
    "        weighted_entropy += (counts[i] / counts.sum()) * entropy(subset[target])\n",
    "\n",
    "    return total_entropy - weighted_entropy"
   ]
  },
  {
   "cell_type": "markdown",
   "id": "04284268",
   "metadata": {},
   "source": [
    "## Testing of Above Function- \n",
    "data = pd.DataFrame({\n",
    "    'Weather': ['Sunny', 'Sunny', 'Rain', 'Rain'],\n",
    "    'Play':    ['Yes', 'No',   'Yes', 'Yes']\n",
    "})\n",
    "\n",
    "Function Call - > information_gain(data, 'Weather', 'Play')\n",
    "\n",
    "\n",
    "Output - 0.31127812445913283"
   ]
  },
  {
   "cell_type": "code",
   "execution_count": 7,
   "id": "c01a097d",
   "metadata": {},
   "outputs": [
    {
     "name": "stdout",
     "output_type": "stream",
     "text": [
      "0.31127812445913283\n"
     ]
    }
   ],
   "source": [
    "data_test = pd.DataFrame({\n",
    "'Weather': ['Sunny', 'Sunny', 'Rain', 'Rain'],\n",
    "'Play':    ['Yes', 'No',   'Yes', 'Yes']\n",
    "})\n",
    "\n",
    "print(information_gain(data_test, 'Weather', 'Play'))"
   ]
  },
  {
   "cell_type": "markdown",
   "id": "3b13d66b",
   "metadata": {},
   "source": [
    "## Implement ID3 Algo"
   ]
  },
  {
   "cell_type": "code",
   "execution_count": 8,
   "id": "e24c1ace",
   "metadata": {},
   "outputs": [],
   "source": [
    "def id3(data, features, target):\n",
    "    # If all labels are same → return the label\n",
    "    if len(np.unique(data[target])) == 1:\n",
    "        return np.unique(data[target])[0]\n",
    "    \n",
    "    # If no features left → return majority label\n",
    "    if len(features) == 0:\n",
    "        return data[target].mode()[0]\n",
    "    \n",
    "    # Choose best feature\n",
    "    gains = [information_gain(data, feature, target) for feature in features]\n",
    "    best_feature = features[np.argmax(gains)]\n",
    " \n",
    "    tree = {best_feature : {}}\n",
    "    \n",
    "    # For each value of best feature → branch\n",
    "    for value in np.unique(data[best_feature]):\n",
    "        sub_data = data[data[best_feature] == value].drop(columns = [best_feature])\n",
    "        sub_tree = id3(sub_data, [f for f in features if f != best_feature], target)\n",
    "        tree[best_feature][value] = sub_tree\n",
    "   \n",
    "    return tree"
   ]
  },
  {
   "cell_type": "markdown",
   "id": "ae7b171a",
   "metadata": {},
   "source": [
    "## Use ID3"
   ]
  },
  {
   "cell_type": "code",
   "execution_count": 10,
   "id": "f3a2845c",
   "metadata": {},
   "outputs": [],
   "source": [
    "a = id3(data, data.columns[:-1], 'PlayTennis')"
   ]
  },
  {
   "cell_type": "markdown",
   "id": "4d2956ef",
   "metadata": {},
   "source": [
    "## Print Tree"
   ]
  },
  {
   "cell_type": "code",
   "execution_count": 11,
   "id": "fb881789",
   "metadata": {},
   "outputs": [
    {
     "data": {
      "text/plain": [
       "{'Outlook': {'Overcast': 'Yes',\n",
       "  'Rain': {'Wind': {'Strong': 'No', 'Weak': 'Yes'}},\n",
       "  'Sunny': {'Humidity': {'High': 'No', 'Normal': 'Yes'}}}}"
      ]
     },
     "execution_count": 11,
     "metadata": {},
     "output_type": "execute_result"
    }
   ],
   "source": [
    "a"
   ]
  },
  {
   "cell_type": "markdown",
   "id": "f2acdf44",
   "metadata": {},
   "source": [
    "## Extra: Create Predict Function"
   ]
  },
  {
   "cell_type": "code",
   "execution_count": 12,
   "id": "d36f9f9a",
   "metadata": {},
   "outputs": [],
   "source": [
    "def predict(tree, sample):\n",
    "    # If the node is a leaf node, return the label\n",
    "    if not isinstance(tree, dict):\n",
    "        return tree\n",
    "\n",
    "    # Get the attribute to split on\n",
    "    attribute = list(tree.keys())[0]\n",
    "    attribute_value = sample[attribute]\n",
    "\n",
    "    # Traverse the tree based on the attribute value\n",
    "    if attribute_value in tree[attribute]:\n",
    "        return predict(tree[attribute][attribute_value], sample)\n",
    "    else:\n",
    "        # Handle cases where the attribute value is not in the tree (e.g., return majority class of the current node's data, or a default value)\n",
    "        # For simplicity, this implementation will return None or raise an error.\n",
    "        # A more robust implementation would handle unknown values.\n",
    "        return None # Or raise an error"
   ]
  },
  {
   "cell_type": "markdown",
   "id": "83859592",
   "metadata": {},
   "source": [
    "##  Extra: Predict for a sample\n",
    "sample = {'Outlook': 'Sunny', 'Temperature': 'Cool', 'Humidity': 'High', 'Wind': 'Strong'}\n",
    "\n",
    "\n",
    "Your Answer ?"
   ]
  },
  {
   "cell_type": "code",
   "execution_count": 13,
   "id": "fa44fb7e",
   "metadata": {},
   "outputs": [],
   "source": [
    "sample = {'Outlook': 'Sunny', 'Temperature': 'Cool', 'Humidity': 'High', 'Wind': 'Strong'}"
   ]
  },
  {
   "cell_type": "code",
   "execution_count": 15,
   "id": "667a3fdd",
   "metadata": {},
   "outputs": [
    {
     "name": "stdout",
     "output_type": "stream",
     "text": [
      "Prediction: No\n"
     ]
    }
   ],
   "source": [
    "prediction = predict(a, sample)\n",
    "print(\"Prediction:\", prediction)"
   ]
  }
 ],
 "metadata": {
  "kernelspec": {
   "display_name": "Python 3",
   "language": "python",
   "name": "python3"
  },
  "language_info": {
   "codemirror_mode": {
    "name": "ipython",
    "version": 3
   },
   "file_extension": ".py",
   "mimetype": "text/x-python",
   "name": "python",
   "nbconvert_exporter": "python",
   "pygments_lexer": "ipython3",
   "version": "3.13.0"
  }
 },
 "nbformat": 4,
 "nbformat_minor": 5
}
